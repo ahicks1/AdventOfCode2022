{
 "cells": [
  {
   "cell_type": "markdown",
   "metadata": {},
   "source": [
    "# Day 1: Calorie Counting\n",
    "\n",
    "Santa's reindeer typically eat regular reindeer food, but they need a lot of magical energy to deliver presents on Christmas. For that, their favorite snack is a special type of star fruit that only grows deep in the jungle. The Elves have brought you on their annual expedition to the grove where the fruit grows.\n",
    "\n",
    "To supply enough magical energy, the expedition needs to retrieve a minimum of fifty stars by December 25th. Although the Elves assure you that the grove has plenty of fruit, you decide to grab any fruit you see along the way, just in case.\n",
    "\n",
    "Collect stars by solving puzzles. Two puzzles will be made available on each day in the Advent calendar; the second puzzle is unlocked when you complete the first. Each puzzle grants one star. Good luck!\n",
    "\n",
    "## Part 1\n",
    "\n",
    "The jungle must be too overgrown and difficult to navigate in vehicles or access from the air; the Elves' expedition traditionally goes on foot. As your boats approach land, the Elves begin taking inventory of their supplies. One important consideration is food - in particular, the number of Calories each Elf is carrying (your puzzle input).\n",
    "\n",
    "The Elves take turns writing down the number of Calories contained by the various meals, snacks, rations, etc. that they've brought with them, one item per line. Each Elf separates their own inventory from the previous Elf's inventory (if any) by a blank line.\n",
    "\n",
    "For example, suppose the Elves finish writing their items' Calories and end up with the following list:\n",
    "\n",
    "```\n",
    "1000\n",
    "2000\n",
    "3000\n",
    "\n",
    "4000\n",
    "\n",
    "5000\n",
    "6000\n",
    "\n",
    "7000\n",
    "8000\n",
    "9000\n",
    "\n",
    "10000\n",
    "```\n",
    "\n",
    "This list represents the Calories of the food carried by five Elves:\n",
    "\n",
    "* The first Elf is carrying food with `1000`, `2000`, and `3000` Calories, a total of `6000` Calories.\n",
    "* The second Elf is carrying one food item with `4000` Calories.\n",
    "* The third Elf is carrying food with `5000` and `6000` Calories, a total of `11000` Calories.\n",
    "* The fourth Elf is carrying food with `7000`, `8000`, and `9000` Calories, a total of `24000` Calories.\n",
    "* The fifth Elf is carrying one food item with `10000` Calories.\n",
    "\n",
    "In case the Elves get hungry and need extra snacks, they need to know which Elf to ask: they'd like to know how many Calories are being carried by the Elf carrying the most Calories. In the example above, this is `24000` (carried by the fourth Elf).\n",
    "\n",
    "Find the Elf carrying the most Calories. How many total Calories is that Elf carrying?\n",
    "\n",
    "\n"
   ]
  },
  {
   "cell_type": "code",
   "execution_count": 2,
   "metadata": {},
   "outputs": [
    {
     "name": "stdout",
     "output_type": "stream",
     "text": [
      "\u001b[92m Passed: expected 0 got 0\u001b[00m\n",
      "\u001b[92m Passed: expected 0 got 0\u001b[00m\n",
      "\u001b[92m Passed: expected 5 got 5\u001b[00m\n",
      "\u001b[92m Passed: expected 5 got 5\u001b[00m\n"
     ]
    }
   ],
   "source": [
    "from localHelpers import doesEqual\n",
    "\n",
    "def mostCalories(supplyList):\n",
    "    maxCalories = 0\n",
    "    runningSum = 0\n",
    "    for s in supplyList:\n",
    "        if(s != \"\"):\n",
    "            runningSum += int(s)\n",
    "        else:\n",
    "            maxCalories = max(runningSum, maxCalories)\n",
    "            runningSum = 0\n",
    "    return max(maxCalories, runningSum)\n",
    "\n",
    "doesEqual(0, mostCalories([]))\n",
    "doesEqual(0, mostCalories([\"\"]))\n",
    "doesEqual(5, mostCalories([\"3\",\"2\"]))\n",
    "doesEqual(5, mostCalories([\"1\",\"2\", \"\", \"5\", \"\", \"1\", \"1\"]))"
   ]
  },
  {
   "cell_type": "code",
   "execution_count": 4,
   "metadata": {},
   "outputs": [
    {
     "name": "stdout",
     "output_type": "stream",
     "text": [
      "Got part one result of 66487 calories\n"
     ]
    }
   ],
   "source": [
    "with open(\"Day1Input.txt\") as f:\n",
    "    inputLines = f.read().splitlines() \n",
    "    print(f\"Result for Part 1: {mostCalories(inputLines)} calories\")"
   ]
  },
  {
   "cell_type": "markdown",
   "metadata": {},
   "source": [
    "## Part Two\n",
    "\n",
    "By the time you calculate the answer to the Elves' question, they've already realized that the Elf carrying the most Calories of food might eventually run out of snacks.\n",
    "\n",
    "To avoid this unacceptable situation, the Elves would instead like to know the total Calories carried by the top three Elves carrying the most Calories. That way, even if one of those Elves runs out of snacks, they still have two backups.\n",
    "\n",
    "In the example above, the top three Elves are the fourth Elf (with `24000` Calories), then the third Elf (with `11000` Calories), then the fifth Elf (with `10000` Calories). The sum of the Calories carried by these three elves is `45000`.\n",
    "\n",
    "Find the top three Elves carrying the most Calories. How many Calories are those Elves carrying in total?\n"
   ]
  },
  {
   "cell_type": "code",
   "execution_count": 6,
   "metadata": {},
   "outputs": [
    {
     "name": "stdout",
     "output_type": "stream",
     "text": [
      "197301\n"
     ]
    }
   ],
   "source": [
    "# Initial imperitive solution\n",
    "def getTop3Calories(supplyList):\n",
    "    calorieSums = []\n",
    "    runningSum = 0\n",
    "    for s in supplyList:\n",
    "        if(s != \"\"):\n",
    "            runningSum += int(s)\n",
    "        else:\n",
    "            calorieSums.append(runningSum)\n",
    "            runningSum = 0\n",
    "    calorieSums.append(runningSum)\n",
    "    calorieSums.sort()\n",
    "    return calorieSums[-1]+calorieSums[-2]+calorieSums[-3]\n",
    "\n",
    "print(getTop3Calories(inputLines))"
   ]
  },
  {
   "cell_type": "code",
   "execution_count": 24,
   "metadata": {},
   "outputs": [
    {
     "name": "stdout",
     "output_type": "stream",
     "text": [
      "\u001b[92m Passed: expected 0 got 0\u001b[00m\n",
      "\u001b[92m Passed: expected 0 got 0\u001b[00m\n",
      "\u001b[92m Passed: expected 5 got 5\u001b[00m\n",
      "\u001b[92m Passed: expected 8 got 8\u001b[00m\n"
     ]
    }
   ],
   "source": [
    "# Functional solution\n",
    "from functools import reduce\n",
    "\n",
    "def reduceFunction(acc: list[int], value: str):\n",
    "    # Adds the int of the value to the head of the accumulator if value is not empty\n",
    "    return [0]+acc if not value else [acc[0]+int(value)]+acc[1:]\n",
    "\n",
    "def getCaloriesForTopN(supplyList: list[str], n: int):\n",
    "    # Get calorie counts for each elf\n",
    "    calorieCounts = reduce(reduceFunction , supplyList, [0])\n",
    "    # Return the sum of the top N calorie counts\n",
    "    return sum(sorted(calorieCounts, reverse=True)[:n])\n",
    "\n",
    "doesEqual(0, getCaloriesForTopN([], 1))\n",
    "doesEqual(0, getCaloriesForTopN([\"\"], 1))\n",
    "doesEqual(5, getCaloriesForTopN([\"3\",\"2\"], 1))\n",
    "doesEqual(8, getCaloriesForTopN([\"1\",\"2\", \"\", \"5\", \"\", \"1\", \"1\"], 2))"
   ]
  },
  {
   "cell_type": "code",
   "execution_count": 26,
   "metadata": {},
   "outputs": [
    {
     "name": "stdout",
     "output_type": "stream",
     "text": [
      "Result for Part 1: 66487 calories\n",
      "Result for Part 2: 197301 calories\n"
     ]
    }
   ],
   "source": [
    "print(f\"Result for Part 1: {getCaloriesForTopN(inputLines, 1)} calories\")\n",
    "print(f\"Result for Part 2: {getCaloriesForTopN(inputLines, 3)} calories\")"
   ]
  }
 ],
 "metadata": {
  "kernelspec": {
   "display_name": "Python 3.9.6 64-bit",
   "language": "python",
   "name": "python3"
  },
  "language_info": {
   "codemirror_mode": {
    "name": "ipython",
    "version": 3
   },
   "file_extension": ".py",
   "mimetype": "text/x-python",
   "name": "python",
   "nbconvert_exporter": "python",
   "pygments_lexer": "ipython3",
   "version": "3.9.6"
  },
  "orig_nbformat": 4,
  "vscode": {
   "interpreter": {
    "hash": "31f2aee4e71d21fbe5cf8b01ff0e069b9275f58929596ceb00d14d90e3e16cd6"
   }
  }
 },
 "nbformat": 4,
 "nbformat_minor": 2
}
