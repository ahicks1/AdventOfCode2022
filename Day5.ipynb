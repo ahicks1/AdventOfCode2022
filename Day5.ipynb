{
 "cells": [
  {
   "cell_type": "code",
   "execution_count": 17,
   "metadata": {},
   "outputs": [
    {
     "name": "stdout",
     "output_type": "stream",
     "text": [
      "[[], [], [], [], [], [], [], [], []]\n",
      "[['R', 'S', 'L', 'F', 'Q'], ['N', 'Z', 'Q', 'G', 'P', 'T'], ['S', 'M', 'Q', 'B'], ['T', 'G', 'Z', 'J', 'H', 'C', 'B', 'Q'], ['P', 'H', 'M', 'B', 'N', 'F', 'S'], ['P', 'C', 'Q', 'N', 'S', 'L', 'V', 'G'], ['W', 'C', 'F'], ['Q', 'H', 'G', 'Z', 'W', 'V', 'P', 'M'], ['G', 'Z', 'D', 'L', 'C', 'N', 'R']]\n",
      "JSDHQMZGF\n"
     ]
    }
   ],
   "source": [
    "import re\n",
    "\n",
    "def move(command, stacks):\n",
    "    _,number,_, start, _, end = command.split(\" \")\n",
    "    stacks[int(end)-1] += stacks[int(start)-1][-int(number):]\n",
    "    for _ in range(int(number)):\n",
    "        # stacks[int(end)-1].append(stacks[int(start)-1].pop())\n",
    "        stacks[int(start)-1].pop()\n",
    "\n",
    "\n",
    "with open(\"Day5Input.txt\") as f:\n",
    "    inputLines = f.read().splitlines() \n",
    "    remaining = list(inputLines)\n",
    "    gotStacks = False\n",
    "    stacks = [ [] for _ in range(len(remaining[0])//4)]\n",
    "    print(stacks)\n",
    "    while (not gotStacks):\n",
    "        line, *remaining = remaining\n",
    "        if(line[1] == '1'):\n",
    "            gotStacks = True\n",
    "        else:\n",
    "            boxes = [ b for a,b,c,d in re.findall('....', line)]\n",
    "            for b,s in zip(boxes, stacks):\n",
    "                if (b != \" \"):\n",
    "                    s.insert(0,b) \n",
    "    line, *remaining = remaining\n",
    "    print(stacks)\n",
    "    for l in remaining:\n",
    "        move(l, stacks)\n",
    "    out = [s[-1] for s in stacks if len(s) > 0]\n",
    "    print(\"\".join(out))\n",
    "\n",
    "\n",
    "\n",
    "\n"
   ]
  }
 ],
 "metadata": {
  "kernelspec": {
   "display_name": "Python 3.9.6 64-bit",
   "language": "python",
   "name": "python3"
  },
  "language_info": {
   "codemirror_mode": {
    "name": "ipython",
    "version": 3
   },
   "file_extension": ".py",
   "mimetype": "text/x-python",
   "name": "python",
   "nbconvert_exporter": "python",
   "pygments_lexer": "ipython3",
   "version": "3.9.6"
  },
  "orig_nbformat": 4,
  "vscode": {
   "interpreter": {
    "hash": "31f2aee4e71d21fbe5cf8b01ff0e069b9275f58929596ceb00d14d90e3e16cd6"
   }
  }
 },
 "nbformat": 4,
 "nbformat_minor": 2
}
