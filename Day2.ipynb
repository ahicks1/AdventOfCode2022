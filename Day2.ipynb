{
 "cells": [
  {
   "cell_type": "markdown",
   "metadata": {},
   "source": [
    "# Day 2: Rock Paper Scissors\n",
    "\n",
    "The Elves begin to set up camp on the beach. To decide whose tent gets to be closest to the snack storage, a giant Rock Paper Scissors tournament is already in progress.\n",
    "\n",
    "## Part 1\n",
    "Rock Paper Scissors is a game between two players. Each game contains many rounds; in each round, the players each simultaneously choose one of Rock, Paper, or Scissors using a hand shape. Then, a winner for that round is selected: Rock defeats Scissors, Scissors defeats Paper, and Paper defeats Rock. If both players choose the same shape, the round instead ends in a draw.\n",
    "\n",
    "Appreciative of your help yesterday, one Elf gives you an encrypted strategy guide (your puzzle input) that they say will be sure to help you win. \"The first column is what your opponent is going to play: A for Rock, B for Paper, and C for Scissors. The second column--\" Suddenly, the Elf is called away to help with someone's tent.\n",
    "\n",
    "The second column, you reason, must be what you should play in response: X for Rock, Y for Paper, and Z for Scissors. Winning every time would be suspicious, so the responses must have been carefully chosen.\n",
    "\n",
    "The winner of the whole tournament is the player with the highest score. Your total score is the sum of your scores for each round. The score for a single round is the score for the shape you selected (1 for Rock, 2 for Paper, and 3 for Scissors) plus the score for the outcome of the round (0 if you lost, 3 if the round was a draw, and 6 if you won).\n",
    "\n",
    "Since you can't be sure if the Elf is trying to help you or trick you, you should calculate the score you would get if you were to follow the strategy guide.\n",
    "\n",
    "For example, suppose you were given the following strategy guide:\n",
    "```\n",
    "A Y\n",
    "B X\n",
    "C Z\n",
    "```\n",
    "This strategy guide predicts and recommends the following:\n",
    "\n",
    "* In the first round, your opponent will choose Rock (A), and you should choose Paper (Y). This ends in a win for you with a score of **8** (2 because you chose Paper + 6 because you won).\n",
    "* In the second round, your opponent will choose Paper (B), and you should choose Rock (X). This ends in a loss for you with a score of **1** (1 + 0).\n",
    "* The third round is a draw with both players choosing Scissors, giving you a score of 3 + 3 = **6**.\n",
    "\n",
    "In this example, if you were to follow the strategy guide, you would get a total score of 15 (8 + 1 + 6).\n",
    "\n",
    "What would your total score be if everything goes exactly according to your strategy guide?\n"
   ]
  },
  {
   "cell_type": "code",
   "execution_count": 52,
   "metadata": {},
   "outputs": [
    {
     "name": "stdout",
     "output_type": "stream",
     "text": [
      "10941\n"
     ]
    }
   ],
   "source": [
    "from localHelpers import doesEqual\n",
    "score = {\n",
    "    \"X\": 1,\n",
    "    \"Y\": 2,\n",
    "    \"Z\": 3,\n",
    "}\n",
    "\n",
    "# Brute force solution\n",
    "def didWin(o, m):\n",
    "    if(o == \"A\"):\n",
    "        if(m == \"X\"):\n",
    "            return 3\n",
    "        elif(m==\"Y\"):\n",
    "            return 6\n",
    "        elif(m=='Z'):\n",
    "            return 0\n",
    "    if(o == \"B\"):\n",
    "        if(m == \"X\"):\n",
    "            return 0\n",
    "        elif(m==\"Y\"):\n",
    "            return 3\n",
    "        elif(m=='Z'):\n",
    "            return 6\n",
    "    if(o == \"C\"):\n",
    "        if(m == \"X\"):\n",
    "            return 6\n",
    "        elif(m==\"Y\"):\n",
    "            return 0\n",
    "        elif(m=='Z'):\n",
    "            return 3\n",
    "\n",
    "def playPaper(plays):\n",
    "    points = 0\n",
    "    for play in plays:\n",
    "        a, b = play.split(\" \")\n",
    "        points += score[b]\n",
    "        points += didWin(a,b)\n",
    "    return points\n",
    "\n",
    "with open(\"Day2Input.txt\") as f:\n",
    "    inputLines = f.read().splitlines() \n",
    "    print(playPaper(inputLines))"
   ]
  },
  {
   "cell_type": "code",
   "execution_count": 53,
   "metadata": {},
   "outputs": [
    {
     "name": "stdout",
     "output_type": "stream",
     "text": [
      "\u001b[92m Passed: expected 15 got 15\u001b[00m\n",
      "\u001b[92m Passed: expected 15 got 15\u001b[00m\n"
     ]
    }
   ],
   "source": [
    "basePoints = [3,6,0]\n",
    "baseOpp = ord(\"A\")\n",
    "baseYou = ord(\"X\")\n",
    "\n",
    "# Modular arithmatic solution\n",
    "def playHandPart1(play):\n",
    "    opponent, you = play.split(\" \")\n",
    "    valueOpp = ord(opponent) - baseOpp\n",
    "    valueYou = ord(you) - baseYou\n",
    "    return 1+valueYou+basePoints[valueYou-valueOpp]\n",
    "\n",
    "def playPart1(plays):\n",
    "    return sum(map(playHandPart1, plays))\n",
    "\n",
    "# Horrendous oneliner\n",
    "def oneLinerPart1(plays):\n",
    "    return sum(map(lambda p: 1+ord(p.split(\" \")[1])-ord(\"X\")+[3,6,0][ord(p.split(\" \")[1])-ord(\"X\")-ord(p.split(\" \")[0])+ord(\"A\")], plays))\n",
    "\n",
    "testInput = [\n",
    "    \"A Y\",\n",
    "    \"B X\",\n",
    "    \"C Z\"\n",
    "    ]\n",
    "doesEqual(15, playPart1(testInput))\n",
    "doesEqual(15, oneLinerPart1(testInput))"
   ]
  },
  {
   "cell_type": "code",
   "execution_count": 54,
   "metadata": {},
   "outputs": [
    {
     "name": "stdout",
     "output_type": "stream",
     "text": [
      "Got Day 1 result of 10941\n",
      "Got Day 1 result of 10941\n"
     ]
    }
   ],
   "source": [
    "print(f\"Got Day 1 result of {playPart1(inputLines)}\")\n",
    "print(f\"Got Day 1 result of {oneLinerPart1(inputLines)}\")"
   ]
  },
  {
   "cell_type": "markdown",
   "metadata": {},
   "source": [
    "## Part 2\n",
    "The Elf finishes helping with the tent and sneaks back over to you. \"Anyway, the second column says how the round needs to end: X means you need to lose, Y means you need to end the round in a draw, and Z means you need to win. Good luck!\"\n",
    "\n",
    "The total score is still calculated in the same way, but now you need to figure out what shape to choose so the round ends as indicated. The example above now goes like this:\n",
    "\n",
    "* In the first round, your opponent will choose Rock (A), and you need the round to end in a draw (Y), so you also choose Rock. This gives you a score of 1 + 3 = 4.\n",
    "* In the second round, your opponent will choose Paper (B), and you choose Rock so you lose (X) with a score of 1 + 0 = 1.\n",
    "* In the third round, you will defeat your opponent's Scissors with Rock for a score of 1 + 6 = 7.\n",
    "\n",
    "Now that you're correctly decrypting the ultra top secret strategy guide, you would get a total score of 12.\n",
    "\n",
    "Following the Elf's instructions for the second column, what would your total score be if everything goes exactly according to your strategy guide?"
   ]
  },
  {
   "cell_type": "code",
   "execution_count": 45,
   "metadata": {},
   "outputs": [
    {
     "name": "stdout",
     "output_type": "stream",
     "text": [
      "\u001b[92m Passed: expected 12 got 12\u001b[00m\n"
     ]
    }
   ],
   "source": [
    "basePoints2 = [3,1,2]\n",
    "\n",
    "def playHandPart2(play):\n",
    "    opponent, you = play.split(\" \")\n",
    "    valueOpp = ord(opponent)-baseOpp\n",
    "    valueYou = ord(you)-baseYou\n",
    "    return (3*valueYou)+basePoints2[(valueYou+valueOpp)%3]\n",
    "\n",
    "def playPart2(plays):\n",
    "    return sum(map(playHandPart2, plays))\n",
    "\n",
    "testInput = [\n",
    "    \"A Y\",\n",
    "    \"B X\",\n",
    "    \"C Z\"\n",
    "    ]\n",
    "doesEqual(12, playPart2(testInput))"
   ]
  },
  {
   "cell_type": "code",
   "execution_count": 46,
   "metadata": {},
   "outputs": [
    {
     "name": "stdout",
     "output_type": "stream",
     "text": [
      "Got Day 2 result of 13071\n"
     ]
    }
   ],
   "source": [
    "print(f\"Got Day 2 result of {playPart2(inputLines)}\")"
   ]
  },
  {
   "cell_type": "code",
   "execution_count": null,
   "metadata": {},
   "outputs": [],
   "source": [
    "#Initial solution\n",
    "def didWin2(o, m):\n",
    "    if(o == \"A\"):\n",
    "        if(m == \"X\"):\n",
    "            return 0+3\n",
    "        elif(m==\"Y\"):\n",
    "            return 3+1\n",
    "        elif(m=='Z'):\n",
    "            return 6+2\n",
    "    if(o == \"B\"):\n",
    "        if(m == \"X\"):\n",
    "            return 0+1\n",
    "        elif(m==\"Y\"):\n",
    "            return 3+2\n",
    "        elif(m=='Z'):\n",
    "            return 6+3\n",
    "    if(o == \"C\"):\n",
    "        if(m == \"X\"):\n",
    "            return 0+2\n",
    "        elif(m==\"Y\"):\n",
    "            return 3+3\n",
    "        elif(m=='Z'):\n",
    "            return 6+1\n",
    "def playPaper2(plays):\n",
    "    points = 0\n",
    "    for play in plays:\n",
    "        a, b = play.split(\" \")\n",
    "        # points += score[b]\n",
    "        points += didWin2(a,b)\n",
    "    return points\n"
   ]
  }
 ],
 "metadata": {
  "kernelspec": {
   "display_name": "Python 3.9.6 64-bit",
   "language": "python",
   "name": "python3"
  },
  "language_info": {
   "codemirror_mode": {
    "name": "ipython",
    "version": 3
   },
   "file_extension": ".py",
   "mimetype": "text/x-python",
   "name": "python",
   "nbconvert_exporter": "python",
   "pygments_lexer": "ipython3",
   "version": "3.9.6"
  },
  "orig_nbformat": 4,
  "vscode": {
   "interpreter": {
    "hash": "31f2aee4e71d21fbe5cf8b01ff0e069b9275f58929596ceb00d14d90e3e16cd6"
   }
  }
 },
 "nbformat": 4,
 "nbformat_minor": 2
}
