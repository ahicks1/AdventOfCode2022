{
 "cells": [
  {
   "cell_type": "code",
   "execution_count": 35,
   "metadata": {},
   "outputs": [
    {
     "name": "stdout",
     "output_type": "stream",
     "text": [
      "didn't find dir\n",
      "528671\n",
      "549173\n"
     ]
    }
   ],
   "source": [
    "import re\n",
    "\n",
    "class Directory:\n",
    "    def __init__(self, name):\n",
    "        self.size = 0\n",
    "        self.name = name\n",
    "        self.parent = None\n",
    "        self.children = {}\n",
    "\n",
    "\n",
    "def parseLS(entries, parent):\n",
    "    subDir = {}\n",
    "    size = 0\n",
    "    for l in entries:\n",
    "        maybeSize, name = l.split(\" \")\n",
    "        if(maybeSize == \"dir\"):\n",
    "            dir = Directory(name)\n",
    "            dir.parent = parent\n",
    "            subDir[name] = dir\n",
    "        else:\n",
    "            size += int(maybeSize)\n",
    "    return (size, subDir)\n",
    "sizes = []\n",
    "def depthFirstTraverse(r):\n",
    "    if(r != None):\n",
    "        recSize = [depthFirstTraverse(c) for c in r.children.values()]\n",
    "        # if(sum(recSize)+r.size<=100000):\n",
    "        sizes.append(sum(recSize)+r.size)\n",
    "        return sum(recSize)+r.size\n",
    "            \n",
    "\n",
    "with open(\"Day7Input.txt\") as f:\n",
    "    input = f.read().split(\"$\")\n",
    "    root = Directory(\"top\")\n",
    "    current = root\n",
    "\n",
    "    for command in input:\n",
    "        entries = command.splitlines()\n",
    "        # CD command\n",
    "        if(len(entries) and re.match(\" cd.*\", entries[0])):\n",
    "            _, dir = entries[0].strip().split(\" \")\n",
    "            if(dir == \"..\"):\n",
    "                current = current.parent\n",
    "            elif(dir in current.children):\n",
    "                # print(\"found dir\")\n",
    "                current = current.children[dir]\n",
    "            else:\n",
    "                print(\"didn't find dir\")\n",
    "\n",
    "        elif(len(entries) and re.match(\" ls.*\", entries[0])):\n",
    "            size, subDir = parseLS(entries[1:], current)\n",
    "            current.children = subDir   \n",
    "            current.size = size\n",
    "    totalSize = depthFirstTraverse(root)\n",
    "    freeSpace = 70000000 - totalSize\n",
    "    needToFree = 30000000 - freeSpace\n",
    "    print(needToFree)\n",
    "    print(min([x for x in sizes if x >= needToFree]))\n",
    "\n",
    "        \n"
   ]
  },
  {
   "cell_type": "markdown",
   "metadata": {},
   "source": []
  }
 ],
 "metadata": {
  "kernelspec": {
   "display_name": "Python 3.9.6 64-bit",
   "language": "python",
   "name": "python3"
  },
  "language_info": {
   "codemirror_mode": {
    "name": "ipython",
    "version": 3
   },
   "file_extension": ".py",
   "mimetype": "text/x-python",
   "name": "python",
   "nbconvert_exporter": "python",
   "pygments_lexer": "ipython3",
   "version": "3.9.6"
  },
  "orig_nbformat": 4,
  "vscode": {
   "interpreter": {
    "hash": "31f2aee4e71d21fbe5cf8b01ff0e069b9275f58929596ceb00d14d90e3e16cd6"
   }
  }
 },
 "nbformat": 4,
 "nbformat_minor": 2
}
