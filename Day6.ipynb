{
 "cells": [
  {
   "cell_type": "code",
   "execution_count": 8,
   "metadata": {},
   "outputs": [
    {
     "name": "stdout",
     "output_type": "stream",
     "text": [
      "mbnz\n",
      "1100\n",
      "cmwlnbzqjsgftr\n",
      "2421\n"
     ]
    }
   ],
   "source": [
    "def findStart(input, numMatching):\n",
    "    for i in range(len(input)-numMatching):\n",
    "            if(len(set(input[i:i+numMatching])) == numMatching):\n",
    "                print(input[i:i+numMatching])\n",
    "                return(i+numMatching)\n",
    "with open(\"Day6Input.txt\") as f:\n",
    "    input = f.read()\n",
    "    print(findStart(input, 4))\n",
    "    print(findStart(input, 14))\n",
    "    "
   ]
  }
 ],
 "metadata": {
  "kernelspec": {
   "display_name": "Python 3.9.6 64-bit",
   "language": "python",
   "name": "python3"
  },
  "language_info": {
   "codemirror_mode": {
    "name": "ipython",
    "version": 3
   },
   "file_extension": ".py",
   "mimetype": "text/x-python",
   "name": "python",
   "nbconvert_exporter": "python",
   "pygments_lexer": "ipython3",
   "version": "3.9.6"
  },
  "orig_nbformat": 4,
  "vscode": {
   "interpreter": {
    "hash": "31f2aee4e71d21fbe5cf8b01ff0e069b9275f58929596ceb00d14d90e3e16cd6"
   }
  }
 },
 "nbformat": 4,
 "nbformat_minor": 2
}
